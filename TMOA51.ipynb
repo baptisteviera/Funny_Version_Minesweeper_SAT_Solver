{
 "cells": [
  {
   "cell_type": "code",
   "execution_count": 1,
   "metadata": {
    "collapsed": true,
    "jupyter": {
     "outputs_hidden": true
    }
   },
   "outputs": [],
   "source": [
    "import string\n",
    "from pprint import pprint\n",
    "from typing import List, Tuple\n",
    "import subprocess\n",
    "import itertools\n",
    "\n",
    "\n",
    "# alias de types\n",
    "Variable = int\n",
    "Literal = int\n",
    "Clause = List[Literal]\n",
    "Model = List[Literal]\n",
    "Clause_Base = List[Clause]\n",
    "Grid = List[List[int]]"
   ]
  },
  {
   "cell_type": "code",
   "execution_count": 3,
   "metadata": {
    "collapsed": false,
    "jupyter": {
     "outputs_hidden": false
    },
    "pycharm": {
     "name": "#%%\n"
    }
   },
   "outputs": [],
   "source": [
    "#### fonctions fournies\n",
    "\n",
    "\n",
    "def write_dimacs_file(dimacs: str, filename: str):\n",
    "    with open(filename, \"w\", newline=\"\") as cnf:\n",
    "        cnf.write(dimacs)\n",
    "\n",
    "\n",
    "def exec_gophersat(\n",
    "    filename: str, cmd: str = \"gophersat\", encoding: str = \"utf8\"\n",
    ") -> Tuple[bool, List[int]]:\n",
    "    result = subprocess.run(\n",
    "        [cmd, filename], capture_output=True, check=True, encoding=encoding\n",
    "    )\n",
    "    string = str(result.stdout)\n",
    "    lines = string.splitlines()\n",
    "\n",
    "    if lines[1] != \"s SATISFIABLE\":\n",
    "        return False, []\n",
    "\n",
    "    model = lines[2][2:].split(\" \")\n",
    "\n",
    "    return True, [int(x) for x in model]\n"
   ]
  },
  {
   "cell_type": "code",
   "execution_count": 4,
   "metadata": {
    "collapsed": false,
    "jupyter": {
     "outputs_hidden": false
    },
    "pycharm": {
     "name": "#%%\n"
    }
   },
   "outputs": [],
   "source": [
    "# la liste des paramètres sera peut être à changer\n",
    "def cell_to_variable(ligne:int, colonne:int, valeur:int)-> int:\n",
    "    \"\"\"\n",
    "    TODO\n",
    "    :param ligne:\n",
    "    :param colonne:\n",
    "    :param valeur:\n",
    "    :return:\n",
    "    \"\"\""
   ]
  },
  {
   "cell_type": "code",
   "execution_count": 5,
   "metadata": {
    "collapsed": false,
    "jupyter": {
     "outputs_hidden": false
    },
    "pycharm": {
     "name": "#%%\n"
    }
   },
   "outputs": [],
   "source": [
    "# la liste des paramètres sera peut être à changer\n",
    "def variable_to_cell_template(lit : int) -> Tuple[int, int, int]:\n",
    "    \"\"\"\n",
    "    TODO\n",
    "    :param lit:\n",
    "    :return:\n",
    "    \"\"\""
   ]
  },
  {
   "cell_type": "code",
   "execution_count": 6,
   "metadata": {
    "collapsed": false,
    "jupyter": {
     "outputs_hidden": false
    },
    "pycharm": {
     "name": "#%%\n"
    }
   },
   "outputs": [],
   "source": [
    "animals = {}\n",
    "animals[\"tiger\"] = 1\n",
    "animals[\"croco\"] = 2\n",
    "animals[\"shark\"] = 3\n",
    "\n",
    "fields = {}\n",
    "fields[\"land\"] = 0\n",
    "fields[\"sea\"] = 1\n",
    "# on peut peut être simplifié avec uniquement sea ou land"
   ]
  },
  {
   "cell_type": "code",
   "execution_count": 7,
   "metadata": {
    "collapsed": false,
    "jupyter": {
     "outputs_hidden": false
    },
    "pycharm": {
     "name": "#%%\n"
    }
   },
   "outputs": [],
   "source": [
    "def cell_to_variable_tmp(row:int, col:int,width:int, field:str,animal:str=\"aucun\")-> int:\n",
    "    if animal == \"aucun\":\n",
    "        return row*(width+2)+col+1+fields[field]\n",
    "    else:\n",
    "        return row*(width+2)+col+1+fields[field]+animals[animal]\n",
    "\n"
   ]
  },
  {
   "cell_type": "code",
   "execution_count": 8,
   "metadata": {
    "collapsed": false,
    "jupyter": {
     "outputs_hidden": false
    },
    "pycharm": {
     "name": "#%%\n"
    }
   },
   "outputs": [],
   "source": [
    "# 4*m*n variables\n",
    "def cell_type_ani_to_variable(row:int,col:int,width:int,height:int,animal:str=\"aucun\"):\n",
    "    \"\"\"\n",
    "\n",
    "    :param row:\n",
    "    :param col:\n",
    "    :param width:\n",
    "    :param heigth:\n",
    "    :param field:\n",
    "    :param animal:\n",
    "    :return:\n",
    "    1 à width * heigth -> le type de terrain\n",
    "    width*heigth + 1 à 2 * width*heigth -> tigre\n",
    "    2 * width*heigth + 1 à 3 * width*heigth -> requin\n",
    "    3 * width*heigth + 1 à 4 * width*heigth -> croco\n",
    "    \"\"\"\n",
    "    offset = row*width+col\n",
    "    if animal == \"T\":\n",
    "        type_ani = width*height+1 + offset\n",
    "    if animal == \"S\":\n",
    "        type_ani = 2*width*height+1 + offset\n",
    "    if animal == \"C\":\n",
    "        type_ani = 3*width*height+1 + offset\n",
    "\n",
    "    return type_ani\n"
   ]
  },
  {
   "cell_type": "code",
   "execution_count": 9,
   "metadata": {
    "collapsed": false,
    "jupyter": {
     "outputs_hidden": false
    },
    "pycharm": {
     "name": "#%%\n"
    }
   },
   "outputs": [],
   "source": [
    "def cell_type_env_to_variable(row:int,col:int,width:int,heigth:int):\n",
    "    \"\"\"\n",
    "\n",
    "    :param row:\n",
    "    :param col:\n",
    "    :param width:\n",
    "    :param heigth:\n",
    "    :param field:\n",
    "    :param animal:\n",
    "    :return:\n",
    "    1 à width * heigth -> le type de terrain\n",
    "    \"\"\"\n",
    "    offset = row*width+col\n",
    "    type_env = 1+offset\n",
    "\n",
    "    return type_env\n"
   ]
  },
  {
   "cell_type": "code",
   "execution_count": 10,
   "metadata": {
    "collapsed": false,
    "jupyter": {
     "outputs_hidden": false
    },
    "pycharm": {
     "name": "#%%\n"
    }
   },
   "outputs": [
    {
     "data": {
      "text/plain": [
       "5"
      ]
     },
     "execution_count": 10,
     "metadata": {},
     "output_type": "execute_result"
    }
   ],
   "source": [
    "cell_type_env_to_variable(1,0,4,4)"
   ]
  },
  {
   "cell_type": "code",
   "execution_count": 11,
   "metadata": {
    "collapsed": false,
    "jupyter": {
     "outputs_hidden": false
    },
    "pycharm": {
     "name": "#%%\n"
    }
   },
   "outputs": [
    {
     "ename": "TypeError",
     "evalue": "cell_to_variable() takes 3 positional arguments but 5 were given",
     "output_type": "error",
     "traceback": [
      "\u001B[0;31m---------------------------------------------------------------------------\u001B[0m",
      "\u001B[0;31mTypeError\u001B[0m                                 Traceback (most recent call last)",
      "\u001B[0;32m<ipython-input-11-30bb88a1de94>\u001B[0m in \u001B[0;36m<module>\u001B[0;34m\u001B[0m\n\u001B[0;32m----> 1\u001B[0;31m \u001B[0mcell_to_variable\u001B[0m\u001B[0;34m(\u001B[0m\u001B[0;36m0\u001B[0m\u001B[0;34m,\u001B[0m\u001B[0;36m0\u001B[0m\u001B[0;34m,\u001B[0m\u001B[0;36m4\u001B[0m\u001B[0;34m,\u001B[0m\u001B[0;34m\"land\"\u001B[0m\u001B[0;34m,\u001B[0m\u001B[0;34m\"tiger\"\u001B[0m\u001B[0;34m)\u001B[0m\u001B[0;34m\u001B[0m\u001B[0;34m\u001B[0m\u001B[0m\n\u001B[0m\u001B[1;32m      2\u001B[0m \u001B[0;34m\u001B[0m\u001B[0m\n\u001B[1;32m      3\u001B[0m \u001B[0;34m\u001B[0m\u001B[0m\n",
      "\u001B[0;31mTypeError\u001B[0m: cell_to_variable() takes 3 positional arguments but 5 were given"
     ]
    }
   ],
   "source": [
    "cell_to_variable(0,0,4,\"land\",\"tiger\")\n"
   ]
  },
  {
   "cell_type": "code",
   "execution_count": 12,
   "metadata": {
    "collapsed": false,
    "jupyter": {
     "outputs_hidden": false
    },
    "pycharm": {
     "name": "#%%\n"
    }
   },
   "outputs": [],
   "source": [
    "# à adapter avec l'énoncé\n",
    "def coords_to_var (row, col,width):\n",
    "    return str(row*(width+2)+col+1)\n",
    "\n"
   ]
  },
  {
   "cell_type": "code",
   "execution_count": 13,
   "metadata": {
    "collapsed": false,
    "jupyter": {
     "outputs_hidden": false
    },
    "pycharm": {
     "name": "#%%\n"
    }
   },
   "outputs": [],
   "source": [
    "def at_least_one(vars: List[int]) -> List[int]:\n",
    "    return [i for i in vars]"
   ]
  },
  {
   "cell_type": "code",
   "execution_count": 13,
   "metadata": {
    "collapsed": false,
    "jupyter": {
     "outputs_hidden": false
    },
    "pycharm": {
     "name": "#%%\n"
    }
   },
   "outputs": [],
   "source": []
  },
  {
   "cell_type": "code",
   "execution_count": 14,
   "metadata": {
    "collapsed": false,
    "jupyter": {
     "outputs_hidden": false
    },
    "pycharm": {
     "name": "#%%\n"
    }
   },
   "outputs": [
    {
     "ename": "ModuleNotFoundError",
     "evalue": "No module named 'wolframclient'",
     "output_type": "error",
     "traceback": [
      "\u001B[0;31m---------------------------------------------------------------------------\u001B[0m",
      "\u001B[0;31mModuleNotFoundError\u001B[0m                       Traceback (most recent call last)",
      "\u001B[0;32m<ipython-input-14-6b3df84869b4>\u001B[0m in \u001B[0;36m<module>\u001B[0;34m\u001B[0m\n\u001B[0;32m----> 1\u001B[0;31m \u001B[0;32mfrom\u001B[0m \u001B[0mwolframclient\u001B[0m\u001B[0;34m.\u001B[0m\u001B[0mevaluation\u001B[0m \u001B[0;32mimport\u001B[0m \u001B[0mWolframLanguageSession\u001B[0m\u001B[0;34m\u001B[0m\u001B[0;34m\u001B[0m\u001B[0m\n\u001B[0m\u001B[1;32m      2\u001B[0m \u001B[0;32mfrom\u001B[0m \u001B[0mwolframclient\u001B[0m\u001B[0;34m.\u001B[0m\u001B[0mlanguage\u001B[0m \u001B[0;32mimport\u001B[0m \u001B[0mwl\u001B[0m\u001B[0;34m,\u001B[0m \u001B[0mwlexpr\u001B[0m\u001B[0;34m\u001B[0m\u001B[0;34m\u001B[0m\u001B[0m\n\u001B[1;32m      3\u001B[0m \u001B[0;34m\u001B[0m\u001B[0m\n",
      "\u001B[0;31mModuleNotFoundError\u001B[0m: No module named 'wolframclient'"
     ]
    }
   ],
   "source": [
    "from wolframclient.evaluation import WolframLanguageSession\n",
    "from wolframclient.language import wl, wlexpr"
   ]
  },
  {
   "cell_type": "code",
   "execution_count": 15,
   "metadata": {
    "collapsed": false,
    "jupyter": {
     "outputs_hidden": false
    },
    "pycharm": {
     "name": "#%%\n"
    }
   },
   "outputs": [
    {
     "ename": "NameError",
     "evalue": "name 'WolframLanguageSession' is not defined",
     "output_type": "error",
     "traceback": [
      "\u001B[0;31m---------------------------------------------------------------------------\u001B[0m",
      "\u001B[0;31mNameError\u001B[0m                                 Traceback (most recent call last)",
      "\u001B[0;32m<ipython-input-15-d099a4a8b8c7>\u001B[0m in \u001B[0;36m<module>\u001B[0;34m\u001B[0m\n\u001B[1;32m      1\u001B[0m \u001B[0;31m# Dans le cas 2 bombs\u001B[0m\u001B[0;34m\u001B[0m\u001B[0;34m\u001B[0m\u001B[0;34m\u001B[0m\u001B[0m\n\u001B[0;32m----> 2\u001B[0;31m \u001B[0;32mwith\u001B[0m \u001B[0mWolframLanguageSession\u001B[0m\u001B[0;34m(\u001B[0m\u001B[0;34m)\u001B[0m \u001B[0;32mas\u001B[0m \u001B[0msession\u001B[0m\u001B[0;34m:\u001B[0m\u001B[0;34m\u001B[0m\u001B[0;34m\u001B[0m\u001B[0m\n\u001B[0m\u001B[1;32m      3\u001B[0m     \"\"\"\n\u001B[1;32m      4\u001B[0m     \u001B[0mTable\u001B[0m\u001B[0;34m[\u001B[0m\u001B[0mPadLeft\u001B[0m\u001B[0;34m[\u001B[0m\u001B[0mIntegerDigits\u001B[0m\u001B[0;34m[\u001B[0m\u001B[0mi\u001B[0m\u001B[0;34m,\u001B[0m \u001B[0;36m2\u001B[0m\u001B[0;34m]\u001B[0m\u001B[0;34m,\u001B[0m \u001B[0;36m8\u001B[0m\u001B[0;34m]\u001B[0m \u001B[0;34m->\u001B[0m \u001B[0mIf\u001B[0m\u001B[0;34m[\u001B[0m\u001B[0mEqual\u001B[0m\u001B[0;34m[\u001B[0m\u001B[0mDigitCount\u001B[0m\u001B[0;34m[\u001B[0m\u001B[0mi\u001B[0m\u001B[0;34m,\u001B[0m \u001B[0;36m2\u001B[0m\u001B[0;34m]\u001B[0m\u001B[0;34m[\u001B[0m\u001B[0;34m[\u001B[0m\u001B[0;36m1\u001B[0m\u001B[0;34m]\u001B[0m\u001B[0;34m]\u001B[0m\u001B[0;34m,\u001B[0m \u001B[0;36m2\u001B[0m\u001B[0;34m]\u001B[0m\u001B[0;34m,\u001B[0m \u001B[0;36m1\u001B[0m\u001B[0;34m,\u001B[0m \u001B[0;36m0\u001B[0m\u001B[0;34m]\u001B[0m\u001B[0;34m,\u001B[0m \u001B[0;34m{\u001B[0m\u001B[0mi\u001B[0m\u001B[0;34m,\u001B[0m \u001B[0;36m0\u001B[0m\u001B[0;34m,\u001B[0m \u001B[0;36m255\u001B[0m\u001B[0;34m}\u001B[0m\u001B[0;34m]\u001B[0m\u001B[0;34m\u001B[0m\u001B[0;34m\u001B[0m\u001B[0m\n\u001B[1;32m      5\u001B[0m     \u001B[0mDigiCount\u001B[0m\u001B[0;34m[\u001B[0m\u001B[0mi\u001B[0m\u001B[0;34m,\u001B[0m\u001B[0;36m2\u001B[0m\u001B[0;34m]\u001B[0m \u001B[0;34m->\u001B[0m \u001B[0mNumber\u001B[0m \u001B[0mof\u001B[0m \u001B[0;36m1\u001B[0m\u001B[0ms\u001B[0m \u001B[0;32mand\u001B[0m \u001B[0;36m0\u001B[0m\u001B[0ms\u001B[0m \u001B[0mbecause\u001B[0m \u001B[0;32min\u001B[0m \u001B[0mbase\u001B[0m \u001B[0;36m2\u001B[0m\u001B[0;34m\u001B[0m\u001B[0;34m\u001B[0m\u001B[0m\n",
      "\u001B[0;31mNameError\u001B[0m: name 'WolframLanguageSession' is not defined"
     ]
    }
   ],
   "source": [
    "# Dans le cas 2 bombs\n",
    "with WolframLanguageSession() as session:\n",
    "    \"\"\"\n",
    "    Table[PadLeft[IntegerDigits[i, 2], 8] -> If[Equal[DigitCount[i, 2][[1]], 2], 1, 0], {i, 0, 255}]\n",
    "    DigiCount[i,2] -> Number of 1s and 0s because in base 2\n",
    "    DigiCount[i,2][[1]] -> return number of 1\n",
    "    If[Equal[DigitCount[i, 2][[1]], 2], 1, 0] -> si i possède 2 \"1\" dans sa forme binaire alors on affiche 1 sinon on affiche 0\n",
    "    IntegerDigits[i, 2] -> donne sous forme binaire i de type liste\n",
    "    PadLeft[IntegerDigits[i, 2], 8] -> ajout des 0 à gauche de notre i sous forme binaire car on code sur 8 bits\n",
    "     Table[expr,{i,imin,imax}] -> starts with i=imin = 0 et imax = 255 car sur 8bits on a au max 255 valeurs\n",
    "    \"\"\"\n",
    "    def generateCNF0animals(ListNeighborsAnimals):\n",
    "\n",
    "            session.evaluate(wlexpr('tbl = Table[PadLeft[IntegerDigits[i, 2], 8] -> If[Equal[DigitCount[i, 2][[1]], 0], 1, 0], {i, 0, 255}]'))\n",
    "            session.evaluate(wlexpr('cnf = BooleanConvert[BooleanFunction[tbl, {a, b, c, d, e, f, g, h}], \"CNF\"]'))\n",
    "            clauses_wolfram = session.evaluate(wlexpr('ToString[cnf]'))\n",
    "            clauses_CNF = wolfram_to_CNF(clauses_wolfram,ListNeighborsAnimals)\n",
    "            return clauses_CNF\n",
    "\n",
    "    def generateCNF1animals(ListNeighborsAnimals):\n",
    "            session.evaluate(wlexpr('tbl = Table[PadLeft[IntegerDigits[i, 2], 8] -> If[Equal[DigitCount[i, 2][[1]], 1], 1, 0], {i, 0, 255}]'))\n",
    "            session.evaluate(wlexpr('cnf = BooleanConvert[BooleanFunction[tbl, {a, b, c, d, e, f, g, h}], \"CNF\"]'))\n",
    "            clauses_wolfram = session.evaluate(wlexpr('ToString[cnf]'))\n",
    "            clauses_CNF = wolfram_to_CNF(clauses_wolfram,ListNeighborsAnimals)\n",
    "            return clauses_CNF\n",
    "\n",
    "    def generateCNF2animals(ListNeighborsAnimals):\n",
    "            session.evaluate(wlexpr('tbl = Table[PadLeft[IntegerDigits[i, 2], 8] -> If[Equal[DigitCount[i, 2][[1]], 2], 1, 0], {i, 0, 255}]'))\n",
    "            session.evaluate(wlexpr('cnf = BooleanConvert[BooleanFunction[tbl, {a, b, c, d, e, f, g, h}], \"CNF\"]'))\n",
    "            clauses_wolfram = session.evaluate(wlexpr('ToString[cnf]'))\n",
    "            clauses_CNF = wolfram_to_CNF(clauses_wolfram,ListNeighborsAnimals)\n",
    "            return clauses_CNF\n",
    "\n",
    "    def generateCNF3animals(ListNeighborsAnimals):\n",
    "            session.evaluate(wlexpr('tbl = Table[PadLeft[IntegerDigits[i, 2], 8] -> If[Equal[DigitCount[i, 2][[1]], 3], 1, 0], {i, 0, 255}]'))\n",
    "            session.evaluate(wlexpr('cnf = BooleanConvert[BooleanFunction[tbl, {a, b, c, d, e, f, g, h}], \"CNF\"]'))\n",
    "            clauses_wolfram = session.evaluate(wlexpr('ToString[cnf]'))\n",
    "            clauses_CNF = wolfram_to_CNF(clauses_wolfram,ListNeighborsAnimals)\n",
    "            return clauses_CNF\n",
    "\n",
    "    def generateCNF4animals(ListNeighborsAnimals):\n",
    "            session.evaluate(wlexpr('tbl = Table[PadLeft[IntegerDigits[i, 2], 8] -> If[Equal[DigitCount[i, 2][[1]], 4], 1, 0], {i, 0, 255}]'))\n",
    "            session.evaluate(wlexpr('cnf = BooleanConvert[BooleanFunction[tbl, {a, b, c, d, e, f, g, h}], \"CNF\"]'))\n",
    "            clauses_wolfram = session.evaluate(wlexpr('ToString[cnf]'))\n",
    "            clauses_CNF = wolfram_to_CNF(clauses_wolfram,ListNeighborsAnimals)\n",
    "            return clauses_CNF\n",
    "\n",
    "    def generateCNF5animals(ListNeighborsAnimals):\n",
    "            session.evaluate(wlexpr('tbl = Table[PadLeft[IntegerDigits[i, 2], 8] -> If[Equal[DigitCount[i, 2][[1]], 5], 1, 0], {i, 0, 255}]'))\n",
    "            session.evaluate(wlexpr('cnf = BooleanConvert[BooleanFunction[tbl, {a, b, c, d, e, f, g, h}], \"CNF\"]'))\n",
    "            clauses_wolfram = session.evaluate(wlexpr('ToString[cnf]'))\n",
    "            clauses_CNF = wolfram_to_CNF(clauses_wolfram,ListNeighborsAnimals)\n",
    "            return clauses_CNF\n",
    "\n",
    "    def generateCNF6animals(ListNeighborsAnimals):\n",
    "            session.evaluate(wlexpr('tbl = Table[PadLeft[IntegerDigits[i, 2], 8] -> If[Equal[DigitCount[i, 2][[1]], 6], 1, 0], {i, 0, 255}]'))\n",
    "            session.evaluate(wlexpr('cnf = BooleanConvert[BooleanFunction[tbl, {a, b, c, d, e, f, g, h}], \"CNF\"]'))\n",
    "            clauses_wolfram = session.evaluate(wlexpr('ToString[cnf]'))\n",
    "            clauses_CNF = wolfram_to_CNF(clauses_wolfram,ListNeighborsAnimals)\n",
    "            return clauses_CNF\n",
    "\n",
    "    def generateCNF7animals(ListNeighborsAnimals):\n",
    "            session.evaluate(wlexpr('tbl = Table[PadLeft[IntegerDigits[i, 2], 8] -> If[Equal[DigitCount[i, 2][[1]], 7], 1, 0], {i, 0, 255}]'))\n",
    "            session.evaluate(wlexpr('cnf = BooleanConvert[BooleanFunction[tbl, {a, b, c, d, e, f, g, h}], \"CNF\"]'))\n",
    "            clauses_wolfram = session.evaluate(wlexpr('ToString[cnf]'))\n",
    "            clauses_CNF = wolfram_to_CNF(clauses_wolfram,ListNeighborsAnimals)\n",
    "            return clauses_CNF\n",
    "\n",
    "    def generateCNF8animals(ListNeighborsAnimals):\n",
    "            session.evaluate(wlexpr('tbl = Table[PadLeft[IntegerDigits[i, 2], 8] -> If[Equal[DigitCount[i, 2][[1]], 8], 1, 0], {i, 0, 255}]'))\n",
    "            session.evaluate(wlexpr('cnf = BooleanConvert[BooleanFunction[tbl, {a, b, c, d, e, f, g, h}], \"CNF\"]'))\n",
    "            clauses_wolfram = session.evaluate(wlexpr('ToString[cnf]'))\n",
    "            clauses_CNF = wolfram_to_CNF(clauses_wolfram,ListNeighborsAnimals)\n",
    "            return clauses_CNF\n"
   ]
  },
  {
   "cell_type": "code",
   "execution_count": 16,
   "metadata": {
    "collapsed": false,
    "jupyter": {
     "outputs_hidden": false
    },
    "pycharm": {
     "name": "#%%\n"
    }
   },
   "outputs": [],
   "source": [
    "def wolfram_to_CNF(clauses,listeCellulesVoisines):\n",
    "    clauses = clauses \\\n",
    "    .replace(\"a\", listeCellulesVoisines[0])\\\n",
    "    .replace(\"b\", listeCellulesVoisines[1])\\\n",
    "    .replace(\"c\", listeCellulesVoisines[2])\\\n",
    "    .replace(\"d\", listeCellulesVoisines[3])\\\n",
    "    .replace(\"e\", listeCellulesVoisines[4])\\\n",
    "    .replace(\"f\", listeCellulesVoisines[5])\\\n",
    "    .replace(\"g\", listeCellulesVoisines[6])\\\n",
    "    .replace(\"h\", listeCellulesVoisines[7])\\\n",
    "    .replace(\"!\", \"-\")\\\n",
    "    .replace(\"|| \", \"\")\\\n",
    "    .replace(\"(\", \"\")\\\n",
    "    .replace(\")\", \"\")\\\n",
    "    .split (\" && \")\n",
    "    return clauses\n",
    "\n",
    "\n",
    "\n"
   ]
  },
  {
   "cell_type": "code",
   "execution_count": 17,
   "metadata": {
    "collapsed": false,
    "jupyter": {
     "outputs_hidden": false
    },
    "pycharm": {
     "name": "#%%\n"
    }
   },
   "outputs": [],
   "source": [
    "clause = \"(!a || !b || !c) && (!a || !b || !d) && (!a || !b || !e) && (!a || !b || !f) && (!a || !b || !g) && (!a || !b || !h) && (!a || !c || !d) && (!a || !c || !e) && (!a || !c || !f) && (!a || !c || !g) && (!a || !c || !h) && (!a || !d || !e) && (!a || !d || !f) && (!a || !d || !g) && (!a || !d || !h) && (!a || !e || !f) && (!a || !e || !g) && (!a || !e || !h) && (!a || !f || !g) && (!a || !f || !h) && (!a || !g || !h) && (a || b || c || d || e || f || g) && (a || b || c || d || e || f || h) && (a || b || c || d || e || g || h) && (a || b || c || d || f || g || h) && (a || b || c || e || f || g || h) && (a || b || d || e || f || g || h) && (a || c || d || e || f || g || h) && (!b || !c || !d) && (!b || !c || !e) && (!b || !c || !f) && (!b || !c || !g) && (!b || !c || !h) && (!b || !d || !e) && (!b || !d || !f) && (!b || !d || !g) && (!b || !d || !h) && (!b || !e || !f) && (!b || !e || !g) && (!b || !e || !h) && (!b || !f || !g) && (!b || !f || !h) && (!b || !g || !h) && (b || c || d || e || f || g || h) && (!c || !d || !e) && (!c || !d || !f) && (!c || !d || !g) && (!c || !d || !h) && (!c || !e || !f) && (!c || !e || !g) && (!c || !e || !h) && (!c || !f || !g) && (!c || !f || !h) && (!c || !g || !h) && (!d || !e || !f) && (!d || !e || !g) && (!d || !e || !h) && (!d || !f || !g) && (!d || !f || !h) && (!d || !g || !h) && (!e || !f || !g) && (!e || !f || !h) && (!e || !g || !h) && (!f || !g || !h)\"\n",
    "liste = [\"1\",\"2\",\"3\",\"4\",\"5\",\"6\",\"7\",\"8\"]\n",
    "listeBis = [1,2,3,4,5,6,7,8]\n"
   ]
  },
  {
   "cell_type": "code",
   "execution_count": 18,
   "metadata": {
    "collapsed": false,
    "jupyter": {
     "outputs_hidden": false
    },
    "pycharm": {
     "name": "#%%\n"
    }
   },
   "outputs": [
    {
     "ename": "NameError",
     "evalue": "name 'generateCNF2animals' is not defined",
     "output_type": "error",
     "traceback": [
      "\u001B[0;31m---------------------------------------------------------------------------\u001B[0m",
      "\u001B[0;31mNameError\u001B[0m                                 Traceback (most recent call last)",
      "\u001B[0;32m<ipython-input-18-d45c2f315bc5>\u001B[0m in \u001B[0;36m<module>\u001B[0;34m\u001B[0m\n\u001B[0;32m----> 1\u001B[0;31m \u001B[0mgenerateCNF2animals\u001B[0m\u001B[0;34m(\u001B[0m\u001B[0mliste\u001B[0m\u001B[0;34m)\u001B[0m\u001B[0;34m\u001B[0m\u001B[0;34m\u001B[0m\u001B[0m\n\u001B[0m\u001B[1;32m      2\u001B[0m \u001B[0;34m\u001B[0m\u001B[0m\n",
      "\u001B[0;31mNameError\u001B[0m: name 'generateCNF2animals' is not defined"
     ]
    }
   ],
   "source": [
    "generateCNF2animals(liste)"
   ]
  },
  {
   "cell_type": "code",
   "execution_count": 19,
   "metadata": {
    "collapsed": false,
    "jupyter": {
     "outputs_hidden": false
    },
    "pycharm": {
     "name": "#%%\n"
    }
   },
   "outputs": [
    {
     "data": {
      "text/plain": [
       "['-1 -2 -3',\n",
       " '-1 -2 -4',\n",
       " '-1 -2 -5',\n",
       " '-1 -2 -6',\n",
       " '-1 -2 -7',\n",
       " '-1 -2 -8',\n",
       " '-1 -3 -4',\n",
       " '-1 -3 -5',\n",
       " '-1 -3 -6',\n",
       " '-1 -3 -7',\n",
       " '-1 -3 -8',\n",
       " '-1 -4 -5',\n",
       " '-1 -4 -6',\n",
       " '-1 -4 -7',\n",
       " '-1 -4 -8',\n",
       " '-1 -5 -6',\n",
       " '-1 -5 -7',\n",
       " '-1 -5 -8',\n",
       " '-1 -6 -7',\n",
       " '-1 -6 -8',\n",
       " '-1 -7 -8',\n",
       " '1 2 3 4 5 6 7',\n",
       " '1 2 3 4 5 6 8',\n",
       " '1 2 3 4 5 7 8',\n",
       " '1 2 3 4 6 7 8',\n",
       " '1 2 3 5 6 7 8',\n",
       " '1 2 4 5 6 7 8',\n",
       " '1 3 4 5 6 7 8',\n",
       " '-2 -3 -4',\n",
       " '-2 -3 -5',\n",
       " '-2 -3 -6',\n",
       " '-2 -3 -7',\n",
       " '-2 -3 -8',\n",
       " '-2 -4 -5',\n",
       " '-2 -4 -6',\n",
       " '-2 -4 -7',\n",
       " '-2 -4 -8',\n",
       " '-2 -5 -6',\n",
       " '-2 -5 -7',\n",
       " '-2 -5 -8',\n",
       " '-2 -6 -7',\n",
       " '-2 -6 -8',\n",
       " '-2 -7 -8',\n",
       " '2 3 4 5 6 7 8',\n",
       " '-3 -4 -5',\n",
       " '-3 -4 -6',\n",
       " '-3 -4 -7',\n",
       " '-3 -4 -8',\n",
       " '-3 -5 -6',\n",
       " '-3 -5 -7',\n",
       " '-3 -5 -8',\n",
       " '-3 -6 -7',\n",
       " '-3 -6 -8',\n",
       " '-3 -7 -8',\n",
       " '-4 -5 -6',\n",
       " '-4 -5 -7',\n",
       " '-4 -5 -8',\n",
       " '-4 -6 -7',\n",
       " '-4 -6 -8',\n",
       " '-4 -7 -8',\n",
       " '-5 -6 -7',\n",
       " '-5 -6 -8',\n",
       " '-5 -7 -8',\n",
       " '-6 -7 -8']"
      ]
     },
     "execution_count": 19,
     "metadata": {},
     "output_type": "execute_result"
    }
   ],
   "source": [
    "\n",
    "liste_clauses=wolfram_to_CNF(clause,liste)\n",
    "liste_clauses"
   ]
  },
  {
   "cell_type": "code",
   "execution_count": 20,
   "metadata": {
    "collapsed": false,
    "jupyter": {
     "outputs_hidden": false
    },
    "pycharm": {
     "name": "#%%\n"
    }
   },
   "outputs": [],
   "source": [
    "def clauses_to_dimacs(liste_clauses: List) -> str:\n",
    "    dimacs_format = \"p cnf ? ?\\n\"\n",
    "    for clauses in liste_clauses:\n",
    "        dimacs_format+=str(clauses) + \" 0\\n\"\n",
    "    print(dimacs_format)\n",
    "    return dimacs_format"
   ]
  },
  {
   "cell_type": "code",
   "execution_count": 21,
   "metadata": {
    "collapsed": false,
    "jupyter": {
     "outputs_hidden": false
    },
    "pycharm": {
     "name": "#%%\n"
    }
   },
   "outputs": [
    {
     "name": "stdout",
     "output_type": "stream",
     "text": [
      "p cnf ? ?\n",
      "-1 -2 -3 0\n",
      "-1 -2 -4 0\n",
      "-1 -2 -5 0\n",
      "-1 -2 -6 0\n",
      "-1 -2 -7 0\n",
      "-1 -2 -8 0\n",
      "-1 -3 -4 0\n",
      "-1 -3 -5 0\n",
      "-1 -3 -6 0\n",
      "-1 -3 -7 0\n",
      "-1 -3 -8 0\n",
      "-1 -4 -5 0\n",
      "-1 -4 -6 0\n",
      "-1 -4 -7 0\n",
      "-1 -4 -8 0\n",
      "-1 -5 -6 0\n",
      "-1 -5 -7 0\n",
      "-1 -5 -8 0\n",
      "-1 -6 -7 0\n",
      "-1 -6 -8 0\n",
      "-1 -7 -8 0\n",
      "1 2 3 4 5 6 7 0\n",
      "1 2 3 4 5 6 8 0\n",
      "1 2 3 4 5 7 8 0\n",
      "1 2 3 4 6 7 8 0\n",
      "1 2 3 5 6 7 8 0\n",
      "1 2 4 5 6 7 8 0\n",
      "1 3 4 5 6 7 8 0\n",
      "-2 -3 -4 0\n",
      "-2 -3 -5 0\n",
      "-2 -3 -6 0\n",
      "-2 -3 -7 0\n",
      "-2 -3 -8 0\n",
      "-2 -4 -5 0\n",
      "-2 -4 -6 0\n",
      "-2 -4 -7 0\n",
      "-2 -4 -8 0\n",
      "-2 -5 -6 0\n",
      "-2 -5 -7 0\n",
      "-2 -5 -8 0\n",
      "-2 -6 -7 0\n",
      "-2 -6 -8 0\n",
      "-2 -7 -8 0\n",
      "2 3 4 5 6 7 8 0\n",
      "-3 -4 -5 0\n",
      "-3 -4 -6 0\n",
      "-3 -4 -7 0\n",
      "-3 -4 -8 0\n",
      "-3 -5 -6 0\n",
      "-3 -5 -7 0\n",
      "-3 -5 -8 0\n",
      "-3 -6 -7 0\n",
      "-3 -6 -8 0\n",
      "-3 -7 -8 0\n",
      "-4 -5 -6 0\n",
      "-4 -5 -7 0\n",
      "-4 -5 -8 0\n",
      "-4 -6 -7 0\n",
      "-4 -6 -8 0\n",
      "-4 -7 -8 0\n",
      "-5 -6 -7 0\n",
      "-5 -6 -8 0\n",
      "-5 -7 -8 0\n",
      "-6 -7 -8 0\n",
      "\n"
     ]
    },
    {
     "data": {
      "text/plain": [
       "'p cnf ? ?\\n-1 -2 -3 0\\n-1 -2 -4 0\\n-1 -2 -5 0\\n-1 -2 -6 0\\n-1 -2 -7 0\\n-1 -2 -8 0\\n-1 -3 -4 0\\n-1 -3 -5 0\\n-1 -3 -6 0\\n-1 -3 -7 0\\n-1 -3 -8 0\\n-1 -4 -5 0\\n-1 -4 -6 0\\n-1 -4 -7 0\\n-1 -4 -8 0\\n-1 -5 -6 0\\n-1 -5 -7 0\\n-1 -5 -8 0\\n-1 -6 -7 0\\n-1 -6 -8 0\\n-1 -7 -8 0\\n1 2 3 4 5 6 7 0\\n1 2 3 4 5 6 8 0\\n1 2 3 4 5 7 8 0\\n1 2 3 4 6 7 8 0\\n1 2 3 5 6 7 8 0\\n1 2 4 5 6 7 8 0\\n1 3 4 5 6 7 8 0\\n-2 -3 -4 0\\n-2 -3 -5 0\\n-2 -3 -6 0\\n-2 -3 -7 0\\n-2 -3 -8 0\\n-2 -4 -5 0\\n-2 -4 -6 0\\n-2 -4 -7 0\\n-2 -4 -8 0\\n-2 -5 -6 0\\n-2 -5 -7 0\\n-2 -5 -8 0\\n-2 -6 -7 0\\n-2 -6 -8 0\\n-2 -7 -8 0\\n2 3 4 5 6 7 8 0\\n-3 -4 -5 0\\n-3 -4 -6 0\\n-3 -4 -7 0\\n-3 -4 -8 0\\n-3 -5 -6 0\\n-3 -5 -7 0\\n-3 -5 -8 0\\n-3 -6 -7 0\\n-3 -6 -8 0\\n-3 -7 -8 0\\n-4 -5 -6 0\\n-4 -5 -7 0\\n-4 -5 -8 0\\n-4 -6 -7 0\\n-4 -6 -8 0\\n-4 -7 -8 0\\n-5 -6 -7 0\\n-5 -6 -8 0\\n-5 -7 -8 0\\n-6 -7 -8 0\\n'"
      ]
     },
     "execution_count": 21,
     "metadata": {},
     "output_type": "execute_result"
    }
   ],
   "source": [
    "clauses_to_dimacs(liste_clauses)\n"
   ]
  },
  {
   "cell_type": "code",
   "execution_count": null,
   "metadata": {
    "collapsed": false,
    "jupyter": {
     "outputs_hidden": false
    },
    "pycharm": {
     "name": "#%%\n"
    }
   },
   "outputs": [],
   "source": [
    "\n",
    "with open(\"test.cnf\", \"w\") as output_cnf:\n",
    "    output_cnf.write(clauses_to_dimacs(liste_clauses))"
   ]
  },
  {
   "cell_type": "code",
   "execution_count": 22,
   "metadata": {
    "collapsed": false,
    "jupyter": {
     "outputs_hidden": false
    },
    "pycharm": {
     "name": "#%%\n"
    }
   },
   "outputs": [],
   "source": [
    "def unique3(vars: List[int]) -> List[List[int]]:\n",
    "    \"\"\"\n",
    "    MAYBE TO MODIFY / TO ADAPT\n",
    "    :param vars:\n",
    "    :return:\n",
    "    \"\"\"\n",
    "    listCombination = [list((-l1, -l2,-l3)) for l1, l2, l3 in itertools.combinations(vars, 3)]\n",
    "    listCombination.append(at_least_one(vars))\n",
    "    return listCombination"
   ]
  },
  {
   "cell_type": "code",
   "execution_count": 23,
   "metadata": {
    "collapsed": false,
    "jupyter": {
     "outputs_hidden": false
    },
    "pycharm": {
     "name": "#%%\n"
    }
   },
   "outputs": [
    {
     "data": {
      "text/plain": [
       "[[-1, -2, -3],\n",
       " [-1, -2, -4],\n",
       " [-1, -2, -5],\n",
       " [-1, -2, -6],\n",
       " [-1, -2, -7],\n",
       " [-1, -2, -8],\n",
       " [-1, -3, -4],\n",
       " [-1, -3, -5],\n",
       " [-1, -3, -6],\n",
       " [-1, -3, -7],\n",
       " [-1, -3, -8],\n",
       " [-1, -4, -5],\n",
       " [-1, -4, -6],\n",
       " [-1, -4, -7],\n",
       " [-1, -4, -8],\n",
       " [-1, -5, -6],\n",
       " [-1, -5, -7],\n",
       " [-1, -5, -8],\n",
       " [-1, -6, -7],\n",
       " [-1, -6, -8],\n",
       " [-1, -7, -8],\n",
       " [-2, -3, -4],\n",
       " [-2, -3, -5],\n",
       " [-2, -3, -6],\n",
       " [-2, -3, -7],\n",
       " [-2, -3, -8],\n",
       " [-2, -4, -5],\n",
       " [-2, -4, -6],\n",
       " [-2, -4, -7],\n",
       " [-2, -4, -8],\n",
       " [-2, -5, -6],\n",
       " [-2, -5, -7],\n",
       " [-2, -5, -8],\n",
       " [-2, -6, -7],\n",
       " [-2, -6, -8],\n",
       " [-2, -7, -8],\n",
       " [-3, -4, -5],\n",
       " [-3, -4, -6],\n",
       " [-3, -4, -7],\n",
       " [-3, -4, -8],\n",
       " [-3, -5, -6],\n",
       " [-3, -5, -7],\n",
       " [-3, -5, -8],\n",
       " [-3, -6, -7],\n",
       " [-3, -6, -8],\n",
       " [-3, -7, -8],\n",
       " [-4, -5, -6],\n",
       " [-4, -5, -7],\n",
       " [-4, -5, -8],\n",
       " [-4, -6, -7],\n",
       " [-4, -6, -8],\n",
       " [-4, -7, -8],\n",
       " [-5, -6, -7],\n",
       " [-5, -6, -8],\n",
       " [-5, -7, -8],\n",
       " [-6, -7, -8],\n",
       " [1, 2, 3, 4, 5, 6, 7, 8]]"
      ]
     },
     "execution_count": 23,
     "metadata": {},
     "output_type": "execute_result"
    }
   ],
   "source": [
    "unique3(listeBis)"
   ]
  },
  {
   "cell_type": "code",
   "execution_count": 24,
   "metadata": {
    "collapsed": false,
    "jupyter": {
     "outputs_hidden": false
    },
    "pycharm": {
     "name": "#%%\n"
    }
   },
   "outputs": [],
   "source": [
    "def clauses_to_dimacs_V2(clauses: List[List[int]], nb_vars: int) -> str:\n",
    "    dimacs_format = \"p cnf 729 3270\\n\"\n",
    "    for listes in clauses:\n",
    "        for j in listes:\n",
    "            dimacs_format+=str(j)+\" \"\n",
    "        dimacs_format+=\"0\\n\"\n",
    "    print(dimacs_format)\n",
    "    return  dimacs_format"
   ]
  },
  {
   "cell_type": "code",
   "execution_count": 25,
   "metadata": {
    "collapsed": false,
    "jupyter": {
     "outputs_hidden": false
    },
    "pycharm": {
     "name": "#%%\n"
    }
   },
   "outputs": [
    {
     "name": "stdout",
     "output_type": "stream",
     "text": [
      "p cnf 729 3270\n",
      "-1 -2 -3 0\n",
      "-1 -2 -4 0\n",
      "-1 -2 -5 0\n",
      "-1 -2 -6 0\n",
      "-1 -2 -7 0\n",
      "-1 -2 -8 0\n",
      "-1 -3 -4 0\n",
      "-1 -3 -5 0\n",
      "-1 -3 -6 0\n",
      "-1 -3 -7 0\n",
      "-1 -3 -8 0\n",
      "-1 -4 -5 0\n",
      "-1 -4 -6 0\n",
      "-1 -4 -7 0\n",
      "-1 -4 -8 0\n",
      "-1 -5 -6 0\n",
      "-1 -5 -7 0\n",
      "-1 -5 -8 0\n",
      "-1 -6 -7 0\n",
      "-1 -6 -8 0\n",
      "-1 -7 -8 0\n",
      "-2 -3 -4 0\n",
      "-2 -3 -5 0\n",
      "-2 -3 -6 0\n",
      "-2 -3 -7 0\n",
      "-2 -3 -8 0\n",
      "-2 -4 -5 0\n",
      "-2 -4 -6 0\n",
      "-2 -4 -7 0\n",
      "-2 -4 -8 0\n",
      "-2 -5 -6 0\n",
      "-2 -5 -7 0\n",
      "-2 -5 -8 0\n",
      "-2 -6 -7 0\n",
      "-2 -6 -8 0\n",
      "-2 -7 -8 0\n",
      "-3 -4 -5 0\n",
      "-3 -4 -6 0\n",
      "-3 -4 -7 0\n",
      "-3 -4 -8 0\n",
      "-3 -5 -6 0\n",
      "-3 -5 -7 0\n",
      "-3 -5 -8 0\n",
      "-3 -6 -7 0\n",
      "-3 -6 -8 0\n",
      "-3 -7 -8 0\n",
      "-4 -5 -6 0\n",
      "-4 -5 -7 0\n",
      "-4 -5 -8 0\n",
      "-4 -6 -7 0\n",
      "-4 -6 -8 0\n",
      "-4 -7 -8 0\n",
      "-5 -6 -7 0\n",
      "-5 -6 -8 0\n",
      "-5 -7 -8 0\n",
      "-6 -7 -8 0\n",
      "1 2 3 4 5 6 7 8 0\n",
      "\n"
     ]
    },
    {
     "data": {
      "text/plain": [
       "'p cnf 729 3270\\n-1 -2 -3 0\\n-1 -2 -4 0\\n-1 -2 -5 0\\n-1 -2 -6 0\\n-1 -2 -7 0\\n-1 -2 -8 0\\n-1 -3 -4 0\\n-1 -3 -5 0\\n-1 -3 -6 0\\n-1 -3 -7 0\\n-1 -3 -8 0\\n-1 -4 -5 0\\n-1 -4 -6 0\\n-1 -4 -7 0\\n-1 -4 -8 0\\n-1 -5 -6 0\\n-1 -5 -7 0\\n-1 -5 -8 0\\n-1 -6 -7 0\\n-1 -6 -8 0\\n-1 -7 -8 0\\n-2 -3 -4 0\\n-2 -3 -5 0\\n-2 -3 -6 0\\n-2 -3 -7 0\\n-2 -3 -8 0\\n-2 -4 -5 0\\n-2 -4 -6 0\\n-2 -4 -7 0\\n-2 -4 -8 0\\n-2 -5 -6 0\\n-2 -5 -7 0\\n-2 -5 -8 0\\n-2 -6 -7 0\\n-2 -6 -8 0\\n-2 -7 -8 0\\n-3 -4 -5 0\\n-3 -4 -6 0\\n-3 -4 -7 0\\n-3 -4 -8 0\\n-3 -5 -6 0\\n-3 -5 -7 0\\n-3 -5 -8 0\\n-3 -6 -7 0\\n-3 -6 -8 0\\n-3 -7 -8 0\\n-4 -5 -6 0\\n-4 -5 -7 0\\n-4 -5 -8 0\\n-4 -6 -7 0\\n-4 -6 -8 0\\n-4 -7 -8 0\\n-5 -6 -7 0\\n-5 -6 -8 0\\n-5 -7 -8 0\\n-6 -7 -8 0\\n1 2 3 4 5 6 7 8 0\\n'"
      ]
     },
     "execution_count": 25,
     "metadata": {},
     "output_type": "execute_result"
    }
   ],
   "source": [
    "clauses_to_dimacs_V2(unique3(listeBis),8)\n"
   ]
  },
  {
   "cell_type": "code",
   "execution_count": 26,
   "metadata": {
    "collapsed": false,
    "jupyter": {
     "outputs_hidden": false
    },
    "pycharm": {
     "name": "#%%\n"
    }
   },
   "outputs": [
    {
     "data": {
      "text/plain": [
       "'1'"
      ]
     },
     "execution_count": 26,
     "metadata": {},
     "output_type": "execute_result"
    }
   ],
   "source": [
    "coords_to_var(0,0,4)\n"
   ]
  },
  {
   "cell_type": "code",
   "execution_count": 30,
   "metadata": {
    "collapsed": false,
    "jupyter": {
     "outputs_hidden": false
    },
    "pycharm": {
     "name": "#%%\n"
    }
   },
   "outputs": [],
   "source": [
    "def atmost(vars: List[int]) -> List[List[int]]:\n",
    "    \"\"\"\n",
    "    :param vars:\n",
    "    :return:\n",
    "    \"\"\"\n",
    "    listCombination = [list((-l1, -l2)) for l1, l2 in itertools.combinations(vars, 2)]\n",
    "    return listCombination"
   ]
  },
  {
   "cell_type": "code",
   "execution_count": 38,
   "metadata": {
    "collapsed": false,
    "jupyter": {
     "outputs_hidden": false
    },
    "pycharm": {
     "name": "#%%\n"
    }
   },
   "outputs": [],
   "source": [
    "def animal_constraints(width:int,height:int)->List[List[int]]:\n",
    "    list_clauses = []\n",
    "    for r in range(height):\n",
    "        for c in range (width):\n",
    "            # one_ani_per_cell\n",
    "            type_T_var = cell_type_ani_to_variable(r,c,width,height,\"T\")\n",
    "            type_S_var = cell_type_ani_to_variable(r,c,width,height,\"S\")\n",
    "            type_C_var = cell_type_ani_to_variable(r,c,width,height,\"C\")\n",
    "            list_clauses += atmost([type_T_var,type_S_var,type_C_var])\n",
    "\n",
    "            # ani_env_constraints\n",
    "            type_env_var = cell_type_env_to_variable(r,c,width,height)\n",
    "            list_clauses += [[type_env_var,-type_T_var]]\n",
    "            list_clauses += [[-type_env_var,-type_S_var]]\n",
    "\n",
    "    return  list_clauses\n"
   ]
  },
  {
   "cell_type": "code",
   "execution_count": null,
   "metadata": {
    "collapsed": false,
    "jupyter": {
     "outputs_hidden": false
    },
    "pycharm": {
     "name": "#%%\n"
    }
   },
   "outputs": [],
   "source": []
  },
  {
   "cell_type": "code",
   "execution_count": 39,
   "metadata": {
    "collapsed": false,
    "jupyter": {
     "outputs_hidden": false
    },
    "pycharm": {
     "name": "#%%\n"
    }
   },
   "outputs": [
    {
     "data": {
      "text/plain": [
       "[[-17, -33],\n",
       " [-17, -49],\n",
       " [-33, -49],\n",
       " [1, -17],\n",
       " [-1, -33],\n",
       " [-18, -34],\n",
       " [-18, -50],\n",
       " [-34, -50],\n",
       " [2, -18],\n",
       " [-2, -34],\n",
       " [-19, -35],\n",
       " [-19, -51],\n",
       " [-35, -51],\n",
       " [3, -19],\n",
       " [-3, -35],\n",
       " [-20, -36],\n",
       " [-20, -52],\n",
       " [-36, -52],\n",
       " [4, -20],\n",
       " [-4, -36],\n",
       " [-21, -37],\n",
       " [-21, -53],\n",
       " [-37, -53],\n",
       " [5, -21],\n",
       " [-5, -37],\n",
       " [-22, -38],\n",
       " [-22, -54],\n",
       " [-38, -54],\n",
       " [6, -22],\n",
       " [-6, -38],\n",
       " [-23, -39],\n",
       " [-23, -55],\n",
       " [-39, -55],\n",
       " [7, -23],\n",
       " [-7, -39],\n",
       " [-24, -40],\n",
       " [-24, -56],\n",
       " [-40, -56],\n",
       " [8, -24],\n",
       " [-8, -40],\n",
       " [-25, -41],\n",
       " [-25, -57],\n",
       " [-41, -57],\n",
       " [9, -25],\n",
       " [-9, -41],\n",
       " [-26, -42],\n",
       " [-26, -58],\n",
       " [-42, -58],\n",
       " [10, -26],\n",
       " [-10, -42],\n",
       " [-27, -43],\n",
       " [-27, -59],\n",
       " [-43, -59],\n",
       " [11, -27],\n",
       " [-11, -43],\n",
       " [-28, -44],\n",
       " [-28, -60],\n",
       " [-44, -60],\n",
       " [12, -28],\n",
       " [-12, -44],\n",
       " [-29, -45],\n",
       " [-29, -61],\n",
       " [-45, -61],\n",
       " [13, -29],\n",
       " [-13, -45],\n",
       " [-30, -46],\n",
       " [-30, -62],\n",
       " [-46, -62],\n",
       " [14, -30],\n",
       " [-14, -46],\n",
       " [-31, -47],\n",
       " [-31, -63],\n",
       " [-47, -63],\n",
       " [15, -31],\n",
       " [-15, -47],\n",
       " [-32, -48],\n",
       " [-32, -64],\n",
       " [-48, -64],\n",
       " [16, -32],\n",
       " [-16, -48]]"
      ]
     },
     "execution_count": 39,
     "metadata": {},
     "output_type": "execute_result"
    }
   ],
   "source": [
    "animal_constraints(4,4)"
   ]
  },
  {
   "cell_type": "code",
   "execution_count": null,
   "metadata": {
    "collapsed": false,
    "jupyter": {
     "outputs_hidden": false
    },
    "pycharm": {
     "name": "#%%\n"
    }
   },
   "outputs": [],
   "source": [
    "def at_least_one(vars: List[int]) -> List[int]:\n",
    "    return [i for i in vars]"
   ]
  },
  {
   "cell_type": "code",
   "execution_count": null,
   "metadata": {
    "collapsed": false,
    "jupyter": {
     "outputs_hidden": false
    },
    "pycharm": {
     "name": "#%%\n"
    }
   },
   "outputs": [],
   "source": [
    "def unique(vars: List[int]) -> List[List[int]]:\n",
    "    base = [list((-l1, -l2)) for l1, l2 in itertools.combinations(vars, 4)]\n",
    "    base.append(at_least_one(vars))\n",
    "    return base"
   ]
  },
  {
   "cell_type": "code",
   "execution_count": 40,
   "metadata": {
    "collapsed": false,
    "jupyter": {
     "outputs_hidden": false
    },
    "pycharm": {
     "name": "#%%\n"
    }
   },
   "outputs": [],
   "source": [
    "def max_env_constraints(width:int,height:int,max_land:int,max_sea:int)->List[List[int]]:\n",
    "    list_clauses = []\n",
    "    for r in range(height):\n",
    "        for c in range (width):\n",
    "\n",
    "            # ani_env_constraints\n",
    "            type_env_var = cell_type_env_to_variable(r,c,width,height)\n",
    "            list_clauses += [[type_env_var,-type_T_var]]\n",
    "            list_clauses += [[-type_env_var,-type_S_var]]\n",
    "\n",
    "    return  list_clauses"
   ]
  },
  {
   "cell_type": "code",
   "execution_count": null,
   "metadata": {
    "collapsed": false,
    "jupyter": {
     "outputs_hidden": false
    },
    "pycharm": {
     "name": "#%%\n"
    }
   },
   "outputs": [],
   "source": [
    "#def add_env_constraints(width:int,height:int,type_env:str)->List[List[int]]:"
   ]
  },
  {
   "cell_type": "code",
   "execution_count": null,
   "metadata": {
    "collapsed": false,
    "jupyter": {
     "outputs_hidden": false
    },
    "pycharm": {
     "name": "#%%\n"
    }
   },
   "outputs": [],
   "source": [
    "example: Grid = [\n",
    "    [5, 3, 0, 0, 7, 0, 0, 0, 0],\n",
    "    [6, 0, 0, 1, 9, 5, 0, 0, 0],\n",
    "    [0, 9, 8, 0, 0, 0, 0, 6, 0],\n",
    "    [8, 0, 0, 0, 6, 0, 0, 0, 3],\n",
    "    [4, 0, 0, 8, 0, 3, 0, 0, 1],\n",
    "    [7, 0, 0, 0, 2, 0, 0, 0, 6],\n",
    "    [0, 6, 0, 0, 0, 0, 2, 8, 0],\n",
    "    [0, 0, 0, 4, 1, 9, 0, 0, 5],\n",
    "    [0, 0, 0, 0, 8, 0, 0, 7, 9],\n",
    "]"
   ]
  },
  {
   "cell_type": "code",
   "execution_count": null,
   "metadata": {
    "collapsed": false,
    "jupyter": {
     "outputs_hidden": false
    },
    "pycharm": {
     "name": "#%%\n"
    }
   },
   "outputs": [],
   "source": [
    "\"\"\"\n",
    "def unique(vars: List[int]) -> List[List[int]]:\n",
    "    base = [list((-l1, -l2)) for l1, l2 in itertools.combinations(vars, 4)]\n",
    "    #base.append(at_least_one(vars))\n",
    "    return base\n",
    "\"\"\""
   ]
  },
  {
   "cell_type": "code",
   "execution_count": 16,
   "metadata": {
    "collapsed": false,
    "jupyter": {
     "outputs_hidden": false
    },
    "pycharm": {
     "name": "#%%\n"
    }
   },
   "outputs": [],
   "source": [
    "import itertools \n",
    "def unique_parametrable(vars,nb):\n",
    "    list_combination = [vars]\n",
    "    for tuple in list(itertools.combinations(vars,nb + 1)): # on convertit en liste important\n",
    "        list_combination.append([-tuple[i] for i in range(nb + 1)])\n",
    "    return list_combination"
   ]
  },
  {
   "cell_type": "code",
   "execution_count": 17,
   "metadata": {
    "collapsed": false,
    "jupyter": {
     "outputs_hidden": false
    },
    "pycharm": {
     "name": "#%%\n"
    }
   },
   "outputs": [
    {
     "data": {
      "text/plain": [
       "[[1, 2, 3], [-1, -2], [-1, -3], [-2, -3]]"
      ]
     },
     "execution_count": 17,
     "metadata": {},
     "output_type": "execute_result"
    }
   ],
   "source": [
    "unique_parametrable([1,2,3],1)"
   ]
  },
  {
   "cell_type": "code",
   "execution_count": 7,
   "metadata": {
    "collapsed": false,
    "jupyter": {
     "outputs_hidden": false
    },
    "pycharm": {
     "name": "#%%\n"
    }
   },
   "outputs": [],
   "source": [
    "import itertools\n",
    "\n",
    "def atmost_parametrable(vars,nb):\n",
    "    \"\"\"\n",
    "    :param vars:\n",
    "    :return:\n",
    "    \"\"\"\n",
    "    list_combination = []\n",
    "    for tuple in list(itertools.combinations(vars, nb + 1)):\n",
    "        list_combination.append([-tuple[i] for i in range(nb + 1)]) # on convertit en liste important\n",
    "    return list_combination"
   ]
  },
  {
   "cell_type": "code",
   "execution_count": 10,
   "metadata": {},
   "outputs": [
    {
     "data": {
      "text/plain": [
       "[[-1, -2, -3, -4],\n",
       " [-1, -2, -3, -5],\n",
       " [-1, -2, -4, -5],\n",
       " [-1, -3, -4, -5],\n",
       " [-2, -3, -4, -5]]"
      ]
     },
     "execution_count": 10,
     "metadata": {},
     "output_type": "execute_result"
    }
   ],
   "source": [
    "atmost_parametrable([1,2,3,4,5], 3)"
   ]
  },
  {
   "cell_type": "code",
   "execution_count": null,
   "metadata": {},
   "outputs": [],
   "source": []
  }
 ],
 "metadata": {
  "kernelspec": {
   "display_name": "Python 3",
   "language": "python",
   "name": "python3"
  },
  "language_info": {
   "codemirror_mode": {
    "name": "ipython",
    "version": 3
   },
   "file_extension": ".py",
   "mimetype": "text/x-python",
   "name": "python",
   "nbconvert_exporter": "python",
   "pygments_lexer": "ipython3",
   "version": "3.9.5"
  }
 },
 "nbformat": 4,
 "nbformat_minor": 4
}